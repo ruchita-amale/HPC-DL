{
 "cells": [
  {
   "cell_type": "code",
   "execution_count": 1,
   "id": "de2ebca0",
   "metadata": {},
   "outputs": [],
   "source": [
    "import numpy as np"
   ]
  },
  {
   "cell_type": "code",
   "execution_count": 2,
   "id": "1711402f",
   "metadata": {},
   "outputs": [],
   "source": [
    "import pandas as pd"
   ]
  },
  {
   "cell_type": "code",
   "execution_count": 3,
   "id": "12c6194c",
   "metadata": {},
   "outputs": [],
   "source": [
    "df = pd.read_csv('HousingData.csv',na_values='Na')"
   ]
  },
  {
   "cell_type": "code",
   "execution_count": 4,
   "id": "9f7e4232",
   "metadata": {},
   "outputs": [
    {
     "data": {
      "text/html": [
       "<div>\n",
       "<style scoped>\n",
       "    .dataframe tbody tr th:only-of-type {\n",
       "        vertical-align: middle;\n",
       "    }\n",
       "\n",
       "    .dataframe tbody tr th {\n",
       "        vertical-align: top;\n",
       "    }\n",
       "\n",
       "    .dataframe thead th {\n",
       "        text-align: right;\n",
       "    }\n",
       "</style>\n",
       "<table border=\"1\" class=\"dataframe\">\n",
       "  <thead>\n",
       "    <tr style=\"text-align: right;\">\n",
       "      <th></th>\n",
       "      <th>CRIM</th>\n",
       "      <th>ZN</th>\n",
       "      <th>INDUS</th>\n",
       "      <th>CHAS</th>\n",
       "      <th>NOX</th>\n",
       "      <th>RM</th>\n",
       "      <th>AGE</th>\n",
       "      <th>DIS</th>\n",
       "      <th>RAD</th>\n",
       "      <th>TAX</th>\n",
       "      <th>PTRATIO</th>\n",
       "      <th>B</th>\n",
       "      <th>LSTAT</th>\n",
       "      <th>MEDV</th>\n",
       "    </tr>\n",
       "  </thead>\n",
       "  <tbody>\n",
       "    <tr>\n",
       "      <th>0</th>\n",
       "      <td>0.00632</td>\n",
       "      <td>18.0</td>\n",
       "      <td>2.31</td>\n",
       "      <td>0.0</td>\n",
       "      <td>0.538</td>\n",
       "      <td>6.575</td>\n",
       "      <td>65.2</td>\n",
       "      <td>4.0900</td>\n",
       "      <td>1</td>\n",
       "      <td>296</td>\n",
       "      <td>15.3</td>\n",
       "      <td>396.90</td>\n",
       "      <td>4.98</td>\n",
       "      <td>24.0</td>\n",
       "    </tr>\n",
       "    <tr>\n",
       "      <th>1</th>\n",
       "      <td>0.02731</td>\n",
       "      <td>0.0</td>\n",
       "      <td>7.07</td>\n",
       "      <td>0.0</td>\n",
       "      <td>0.469</td>\n",
       "      <td>6.421</td>\n",
       "      <td>78.9</td>\n",
       "      <td>4.9671</td>\n",
       "      <td>2</td>\n",
       "      <td>242</td>\n",
       "      <td>17.8</td>\n",
       "      <td>396.90</td>\n",
       "      <td>9.14</td>\n",
       "      <td>21.6</td>\n",
       "    </tr>\n",
       "    <tr>\n",
       "      <th>2</th>\n",
       "      <td>0.02729</td>\n",
       "      <td>0.0</td>\n",
       "      <td>7.07</td>\n",
       "      <td>0.0</td>\n",
       "      <td>0.469</td>\n",
       "      <td>7.185</td>\n",
       "      <td>61.1</td>\n",
       "      <td>4.9671</td>\n",
       "      <td>2</td>\n",
       "      <td>242</td>\n",
       "      <td>17.8</td>\n",
       "      <td>392.83</td>\n",
       "      <td>4.03</td>\n",
       "      <td>34.7</td>\n",
       "    </tr>\n",
       "    <tr>\n",
       "      <th>3</th>\n",
       "      <td>0.03237</td>\n",
       "      <td>0.0</td>\n",
       "      <td>2.18</td>\n",
       "      <td>0.0</td>\n",
       "      <td>0.458</td>\n",
       "      <td>6.998</td>\n",
       "      <td>45.8</td>\n",
       "      <td>6.0622</td>\n",
       "      <td>3</td>\n",
       "      <td>222</td>\n",
       "      <td>18.7</td>\n",
       "      <td>394.63</td>\n",
       "      <td>2.94</td>\n",
       "      <td>33.4</td>\n",
       "    </tr>\n",
       "    <tr>\n",
       "      <th>4</th>\n",
       "      <td>0.06905</td>\n",
       "      <td>0.0</td>\n",
       "      <td>2.18</td>\n",
       "      <td>0.0</td>\n",
       "      <td>0.458</td>\n",
       "      <td>7.147</td>\n",
       "      <td>54.2</td>\n",
       "      <td>6.0622</td>\n",
       "      <td>3</td>\n",
       "      <td>222</td>\n",
       "      <td>18.7</td>\n",
       "      <td>396.90</td>\n",
       "      <td>NaN</td>\n",
       "      <td>36.2</td>\n",
       "    </tr>\n",
       "  </tbody>\n",
       "</table>\n",
       "</div>"
      ],
      "text/plain": [
       "      CRIM    ZN  INDUS  CHAS    NOX     RM   AGE     DIS  RAD  TAX  PTRATIO  \\\n",
       "0  0.00632  18.0   2.31   0.0  0.538  6.575  65.2  4.0900    1  296     15.3   \n",
       "1  0.02731   0.0   7.07   0.0  0.469  6.421  78.9  4.9671    2  242     17.8   \n",
       "2  0.02729   0.0   7.07   0.0  0.469  7.185  61.1  4.9671    2  242     17.8   \n",
       "3  0.03237   0.0   2.18   0.0  0.458  6.998  45.8  6.0622    3  222     18.7   \n",
       "4  0.06905   0.0   2.18   0.0  0.458  7.147  54.2  6.0622    3  222     18.7   \n",
       "\n",
       "        B  LSTAT  MEDV  \n",
       "0  396.90   4.98  24.0  \n",
       "1  396.90   9.14  21.6  \n",
       "2  392.83   4.03  34.7  \n",
       "3  394.63   2.94  33.4  \n",
       "4  396.90    NaN  36.2  "
      ]
     },
     "execution_count": 4,
     "metadata": {},
     "output_type": "execute_result"
    }
   ],
   "source": [
    "df.head()"
   ]
  },
  {
   "cell_type": "code",
   "execution_count": 5,
   "id": "2226d822",
   "metadata": {},
   "outputs": [
    {
     "data": {
      "text/html": [
       "<div>\n",
       "<style scoped>\n",
       "    .dataframe tbody tr th:only-of-type {\n",
       "        vertical-align: middle;\n",
       "    }\n",
       "\n",
       "    .dataframe tbody tr th {\n",
       "        vertical-align: top;\n",
       "    }\n",
       "\n",
       "    .dataframe thead th {\n",
       "        text-align: right;\n",
       "    }\n",
       "</style>\n",
       "<table border=\"1\" class=\"dataframe\">\n",
       "  <thead>\n",
       "    <tr style=\"text-align: right;\">\n",
       "      <th></th>\n",
       "      <th>crim</th>\n",
       "      <th>zn</th>\n",
       "      <th>indus</th>\n",
       "      <th>chas</th>\n",
       "      <th>nox</th>\n",
       "      <th>rm</th>\n",
       "      <th>age</th>\n",
       "      <th>dis</th>\n",
       "      <th>rad</th>\n",
       "      <th>tax</th>\n",
       "      <th>ptratio</th>\n",
       "      <th>b</th>\n",
       "      <th>lstat</th>\n",
       "      <th>MEDV</th>\n",
       "    </tr>\n",
       "  </thead>\n",
       "  <tbody>\n",
       "    <tr>\n",
       "      <th>0</th>\n",
       "      <td>0.00632</td>\n",
       "      <td>18.0</td>\n",
       "      <td>2.31</td>\n",
       "      <td>0</td>\n",
       "      <td>0.538</td>\n",
       "      <td>6.575</td>\n",
       "      <td>65.2</td>\n",
       "      <td>4.0900</td>\n",
       "      <td>1</td>\n",
       "      <td>296</td>\n",
       "      <td>15.3</td>\n",
       "      <td>396.90</td>\n",
       "      <td>4.98</td>\n",
       "      <td>24.0</td>\n",
       "    </tr>\n",
       "    <tr>\n",
       "      <th>1</th>\n",
       "      <td>0.02731</td>\n",
       "      <td>0.0</td>\n",
       "      <td>7.07</td>\n",
       "      <td>0</td>\n",
       "      <td>0.469</td>\n",
       "      <td>6.421</td>\n",
       "      <td>78.9</td>\n",
       "      <td>4.9671</td>\n",
       "      <td>2</td>\n",
       "      <td>242</td>\n",
       "      <td>17.8</td>\n",
       "      <td>396.90</td>\n",
       "      <td>9.14</td>\n",
       "      <td>21.6</td>\n",
       "    </tr>\n",
       "    <tr>\n",
       "      <th>2</th>\n",
       "      <td>0.02729</td>\n",
       "      <td>0.0</td>\n",
       "      <td>7.07</td>\n",
       "      <td>0</td>\n",
       "      <td>0.469</td>\n",
       "      <td>7.185</td>\n",
       "      <td>61.1</td>\n",
       "      <td>4.9671</td>\n",
       "      <td>2</td>\n",
       "      <td>242</td>\n",
       "      <td>17.8</td>\n",
       "      <td>392.83</td>\n",
       "      <td>4.03</td>\n",
       "      <td>34.7</td>\n",
       "    </tr>\n",
       "    <tr>\n",
       "      <th>3</th>\n",
       "      <td>0.03237</td>\n",
       "      <td>0.0</td>\n",
       "      <td>2.18</td>\n",
       "      <td>0</td>\n",
       "      <td>0.458</td>\n",
       "      <td>6.998</td>\n",
       "      <td>45.8</td>\n",
       "      <td>6.0622</td>\n",
       "      <td>3</td>\n",
       "      <td>222</td>\n",
       "      <td>18.7</td>\n",
       "      <td>394.63</td>\n",
       "      <td>2.94</td>\n",
       "      <td>33.4</td>\n",
       "    </tr>\n",
       "    <tr>\n",
       "      <th>4</th>\n",
       "      <td>0.06905</td>\n",
       "      <td>0.0</td>\n",
       "      <td>2.18</td>\n",
       "      <td>0</td>\n",
       "      <td>0.458</td>\n",
       "      <td>7.147</td>\n",
       "      <td>54.2</td>\n",
       "      <td>6.0622</td>\n",
       "      <td>3</td>\n",
       "      <td>222</td>\n",
       "      <td>18.7</td>\n",
       "      <td>396.90</td>\n",
       "      <td>5.33</td>\n",
       "      <td>36.2</td>\n",
       "    </tr>\n",
       "  </tbody>\n",
       "</table>\n",
       "</div>"
      ],
      "text/plain": [
       "      crim    zn  indus  chas    nox     rm   age     dis  rad  tax  ptratio  \\\n",
       "0  0.00632  18.0   2.31     0  0.538  6.575  65.2  4.0900    1  296     15.3   \n",
       "1  0.02731   0.0   7.07     0  0.469  6.421  78.9  4.9671    2  242     17.8   \n",
       "2  0.02729   0.0   7.07     0  0.469  7.185  61.1  4.9671    2  242     17.8   \n",
       "3  0.03237   0.0   2.18     0  0.458  6.998  45.8  6.0622    3  222     18.7   \n",
       "4  0.06905   0.0   2.18     0  0.458  7.147  54.2  6.0622    3  222     18.7   \n",
       "\n",
       "        b  lstat  MEDV  \n",
       "0  396.90   4.98  24.0  \n",
       "1  396.90   9.14  21.6  \n",
       "2  392.83   4.03  34.7  \n",
       "3  394.63   2.94  33.4  \n",
       "4  396.90   5.33  36.2  "
      ]
     },
     "execution_count": 5,
     "metadata": {},
     "output_type": "execute_result"
    }
   ],
   "source": [
    "dff = pd.read_csv('boston_housing.csv',na_values='NA')\n",
    "dff.head()"
   ]
  },
  {
   "cell_type": "code",
   "execution_count": 7,
   "id": "7903c952",
   "metadata": {},
   "outputs": [
    {
     "data": {
      "text/plain": [
       "Index(['CRIM', 'ZN', 'INDUS', 'CHAS', 'NOX', 'RM', 'AGE', 'DIS', 'RAD', 'TAX',\n",
       "       'PTRATIO', 'B', 'LSTAT', 'MEDV'],\n",
       "      dtype='object')"
      ]
     },
     "execution_count": 7,
     "metadata": {},
     "output_type": "execute_result"
    }
   ],
   "source": [
    "df.columns"
   ]
  },
  {
   "cell_type": "code",
   "execution_count": 8,
   "id": "6c8f251c",
   "metadata": {},
   "outputs": [
    {
     "data": {
      "text/plain": [
       "Index(['crim', 'zn', 'indus', 'chas', 'nox', 'rm', 'age', 'dis', 'rad', 'tax',\n",
       "       'ptratio', 'b', 'lstat', 'MEDV'],\n",
       "      dtype='object')"
      ]
     },
     "execution_count": 8,
     "metadata": {},
     "output_type": "execute_result"
    }
   ],
   "source": [
    "dff.columns"
   ]
  },
  {
   "cell_type": "code",
   "execution_count": 9,
   "id": "3321e8c0",
   "metadata": {},
   "outputs": [
    {
     "data": {
      "text/html": [
       "<div>\n",
       "<style scoped>\n",
       "    .dataframe tbody tr th:only-of-type {\n",
       "        vertical-align: middle;\n",
       "    }\n",
       "\n",
       "    .dataframe tbody tr th {\n",
       "        vertical-align: top;\n",
       "    }\n",
       "\n",
       "    .dataframe thead th {\n",
       "        text-align: right;\n",
       "    }\n",
       "</style>\n",
       "<table border=\"1\" class=\"dataframe\">\n",
       "  <thead>\n",
       "    <tr style=\"text-align: right;\">\n",
       "      <th></th>\n",
       "      <th>CRIM</th>\n",
       "      <th>ZN</th>\n",
       "      <th>INDUS</th>\n",
       "      <th>CHAS</th>\n",
       "      <th>NOX</th>\n",
       "      <th>RM</th>\n",
       "      <th>AGE</th>\n",
       "      <th>DIS</th>\n",
       "      <th>RAD</th>\n",
       "      <th>TAX</th>\n",
       "      <th>PTRATIO</th>\n",
       "      <th>B</th>\n",
       "      <th>LSTAT</th>\n",
       "      <th>MEDV</th>\n",
       "    </tr>\n",
       "  </thead>\n",
       "  <tbody>\n",
       "    <tr>\n",
       "      <th>count</th>\n",
       "      <td>486.000000</td>\n",
       "      <td>486.000000</td>\n",
       "      <td>486.000000</td>\n",
       "      <td>486.000000</td>\n",
       "      <td>506.000000</td>\n",
       "      <td>506.000000</td>\n",
       "      <td>486.000000</td>\n",
       "      <td>506.000000</td>\n",
       "      <td>506.000000</td>\n",
       "      <td>506.000000</td>\n",
       "      <td>506.000000</td>\n",
       "      <td>506.000000</td>\n",
       "      <td>486.000000</td>\n",
       "      <td>506.000000</td>\n",
       "    </tr>\n",
       "    <tr>\n",
       "      <th>mean</th>\n",
       "      <td>3.611874</td>\n",
       "      <td>11.211934</td>\n",
       "      <td>11.083992</td>\n",
       "      <td>0.069959</td>\n",
       "      <td>0.554695</td>\n",
       "      <td>6.284634</td>\n",
       "      <td>68.518519</td>\n",
       "      <td>3.795043</td>\n",
       "      <td>9.549407</td>\n",
       "      <td>408.237154</td>\n",
       "      <td>18.455534</td>\n",
       "      <td>356.674032</td>\n",
       "      <td>12.715432</td>\n",
       "      <td>22.532806</td>\n",
       "    </tr>\n",
       "    <tr>\n",
       "      <th>std</th>\n",
       "      <td>8.720192</td>\n",
       "      <td>23.388876</td>\n",
       "      <td>6.835896</td>\n",
       "      <td>0.255340</td>\n",
       "      <td>0.115878</td>\n",
       "      <td>0.702617</td>\n",
       "      <td>27.999513</td>\n",
       "      <td>2.105710</td>\n",
       "      <td>8.707259</td>\n",
       "      <td>168.537116</td>\n",
       "      <td>2.164946</td>\n",
       "      <td>91.294864</td>\n",
       "      <td>7.155871</td>\n",
       "      <td>9.197104</td>\n",
       "    </tr>\n",
       "    <tr>\n",
       "      <th>min</th>\n",
       "      <td>0.006320</td>\n",
       "      <td>0.000000</td>\n",
       "      <td>0.460000</td>\n",
       "      <td>0.000000</td>\n",
       "      <td>0.385000</td>\n",
       "      <td>3.561000</td>\n",
       "      <td>2.900000</td>\n",
       "      <td>1.129600</td>\n",
       "      <td>1.000000</td>\n",
       "      <td>187.000000</td>\n",
       "      <td>12.600000</td>\n",
       "      <td>0.320000</td>\n",
       "      <td>1.730000</td>\n",
       "      <td>5.000000</td>\n",
       "    </tr>\n",
       "    <tr>\n",
       "      <th>25%</th>\n",
       "      <td>0.081900</td>\n",
       "      <td>0.000000</td>\n",
       "      <td>5.190000</td>\n",
       "      <td>0.000000</td>\n",
       "      <td>0.449000</td>\n",
       "      <td>5.885500</td>\n",
       "      <td>45.175000</td>\n",
       "      <td>2.100175</td>\n",
       "      <td>4.000000</td>\n",
       "      <td>279.000000</td>\n",
       "      <td>17.400000</td>\n",
       "      <td>375.377500</td>\n",
       "      <td>7.125000</td>\n",
       "      <td>17.025000</td>\n",
       "    </tr>\n",
       "    <tr>\n",
       "      <th>50%</th>\n",
       "      <td>0.253715</td>\n",
       "      <td>0.000000</td>\n",
       "      <td>9.690000</td>\n",
       "      <td>0.000000</td>\n",
       "      <td>0.538000</td>\n",
       "      <td>6.208500</td>\n",
       "      <td>76.800000</td>\n",
       "      <td>3.207450</td>\n",
       "      <td>5.000000</td>\n",
       "      <td>330.000000</td>\n",
       "      <td>19.050000</td>\n",
       "      <td>391.440000</td>\n",
       "      <td>11.430000</td>\n",
       "      <td>21.200000</td>\n",
       "    </tr>\n",
       "    <tr>\n",
       "      <th>75%</th>\n",
       "      <td>3.560263</td>\n",
       "      <td>12.500000</td>\n",
       "      <td>18.100000</td>\n",
       "      <td>0.000000</td>\n",
       "      <td>0.624000</td>\n",
       "      <td>6.623500</td>\n",
       "      <td>93.975000</td>\n",
       "      <td>5.188425</td>\n",
       "      <td>24.000000</td>\n",
       "      <td>666.000000</td>\n",
       "      <td>20.200000</td>\n",
       "      <td>396.225000</td>\n",
       "      <td>16.955000</td>\n",
       "      <td>25.000000</td>\n",
       "    </tr>\n",
       "    <tr>\n",
       "      <th>max</th>\n",
       "      <td>88.976200</td>\n",
       "      <td>100.000000</td>\n",
       "      <td>27.740000</td>\n",
       "      <td>1.000000</td>\n",
       "      <td>0.871000</td>\n",
       "      <td>8.780000</td>\n",
       "      <td>100.000000</td>\n",
       "      <td>12.126500</td>\n",
       "      <td>24.000000</td>\n",
       "      <td>711.000000</td>\n",
       "      <td>22.000000</td>\n",
       "      <td>396.900000</td>\n",
       "      <td>37.970000</td>\n",
       "      <td>50.000000</td>\n",
       "    </tr>\n",
       "  </tbody>\n",
       "</table>\n",
       "</div>"
      ],
      "text/plain": [
       "             CRIM          ZN       INDUS        CHAS         NOX          RM  \\\n",
       "count  486.000000  486.000000  486.000000  486.000000  506.000000  506.000000   \n",
       "mean     3.611874   11.211934   11.083992    0.069959    0.554695    6.284634   \n",
       "std      8.720192   23.388876    6.835896    0.255340    0.115878    0.702617   \n",
       "min      0.006320    0.000000    0.460000    0.000000    0.385000    3.561000   \n",
       "25%      0.081900    0.000000    5.190000    0.000000    0.449000    5.885500   \n",
       "50%      0.253715    0.000000    9.690000    0.000000    0.538000    6.208500   \n",
       "75%      3.560263   12.500000   18.100000    0.000000    0.624000    6.623500   \n",
       "max     88.976200  100.000000   27.740000    1.000000    0.871000    8.780000   \n",
       "\n",
       "              AGE         DIS         RAD         TAX     PTRATIO           B  \\\n",
       "count  486.000000  506.000000  506.000000  506.000000  506.000000  506.000000   \n",
       "mean    68.518519    3.795043    9.549407  408.237154   18.455534  356.674032   \n",
       "std     27.999513    2.105710    8.707259  168.537116    2.164946   91.294864   \n",
       "min      2.900000    1.129600    1.000000  187.000000   12.600000    0.320000   \n",
       "25%     45.175000    2.100175    4.000000  279.000000   17.400000  375.377500   \n",
       "50%     76.800000    3.207450    5.000000  330.000000   19.050000  391.440000   \n",
       "75%     93.975000    5.188425   24.000000  666.000000   20.200000  396.225000   \n",
       "max    100.000000   12.126500   24.000000  711.000000   22.000000  396.900000   \n",
       "\n",
       "            LSTAT        MEDV  \n",
       "count  486.000000  506.000000  \n",
       "mean    12.715432   22.532806  \n",
       "std      7.155871    9.197104  \n",
       "min      1.730000    5.000000  \n",
       "25%      7.125000   17.025000  \n",
       "50%     11.430000   21.200000  \n",
       "75%     16.955000   25.000000  \n",
       "max     37.970000   50.000000  "
      ]
     },
     "execution_count": 9,
     "metadata": {},
     "output_type": "execute_result"
    }
   ],
   "source": [
    "df.describe()"
   ]
  },
  {
   "cell_type": "code",
   "execution_count": 10,
   "id": "09716bdf",
   "metadata": {},
   "outputs": [
    {
     "data": {
      "text/plain": [
       "CRIM       20\n",
       "ZN         20\n",
       "INDUS      20\n",
       "CHAS       20\n",
       "NOX         0\n",
       "RM          0\n",
       "AGE        20\n",
       "DIS         0\n",
       "RAD         0\n",
       "TAX         0\n",
       "PTRATIO     0\n",
       "B           0\n",
       "LSTAT      20\n",
       "MEDV        0\n",
       "dtype: int64"
      ]
     },
     "execution_count": 10,
     "metadata": {},
     "output_type": "execute_result"
    }
   ],
   "source": [
    "df.isna().sum()"
   ]
  },
  {
   "cell_type": "code",
   "execution_count": 11,
   "id": "6c64352e",
   "metadata": {},
   "outputs": [],
   "source": [
    "for i in df.columns:\n",
    "    mean_value=df[i].mean()\n",
    "    df[i].fillna(mean_value,inplace=True)"
   ]
  },
  {
   "cell_type": "code",
   "execution_count": 12,
   "id": "1a6ccbf6",
   "metadata": {},
   "outputs": [
    {
     "data": {
      "text/html": [
       "<div>\n",
       "<style scoped>\n",
       "    .dataframe tbody tr th:only-of-type {\n",
       "        vertical-align: middle;\n",
       "    }\n",
       "\n",
       "    .dataframe tbody tr th {\n",
       "        vertical-align: top;\n",
       "    }\n",
       "\n",
       "    .dataframe thead th {\n",
       "        text-align: right;\n",
       "    }\n",
       "</style>\n",
       "<table border=\"1\" class=\"dataframe\">\n",
       "  <thead>\n",
       "    <tr style=\"text-align: right;\">\n",
       "      <th></th>\n",
       "      <th>CRIM</th>\n",
       "      <th>ZN</th>\n",
       "      <th>INDUS</th>\n",
       "      <th>CHAS</th>\n",
       "      <th>NOX</th>\n",
       "      <th>RM</th>\n",
       "      <th>AGE</th>\n",
       "      <th>DIS</th>\n",
       "      <th>RAD</th>\n",
       "      <th>TAX</th>\n",
       "      <th>PTRATIO</th>\n",
       "      <th>B</th>\n",
       "      <th>LSTAT</th>\n",
       "      <th>MEDV</th>\n",
       "    </tr>\n",
       "  </thead>\n",
       "  <tbody>\n",
       "    <tr>\n",
       "      <th>0</th>\n",
       "      <td>0.00632</td>\n",
       "      <td>18.0</td>\n",
       "      <td>2.31</td>\n",
       "      <td>0.0</td>\n",
       "      <td>0.538</td>\n",
       "      <td>6.575</td>\n",
       "      <td>65.2</td>\n",
       "      <td>4.0900</td>\n",
       "      <td>1</td>\n",
       "      <td>296</td>\n",
       "      <td>15.3</td>\n",
       "      <td>396.90</td>\n",
       "      <td>4.980000</td>\n",
       "      <td>24.0</td>\n",
       "    </tr>\n",
       "    <tr>\n",
       "      <th>1</th>\n",
       "      <td>0.02731</td>\n",
       "      <td>0.0</td>\n",
       "      <td>7.07</td>\n",
       "      <td>0.0</td>\n",
       "      <td>0.469</td>\n",
       "      <td>6.421</td>\n",
       "      <td>78.9</td>\n",
       "      <td>4.9671</td>\n",
       "      <td>2</td>\n",
       "      <td>242</td>\n",
       "      <td>17.8</td>\n",
       "      <td>396.90</td>\n",
       "      <td>9.140000</td>\n",
       "      <td>21.6</td>\n",
       "    </tr>\n",
       "    <tr>\n",
       "      <th>2</th>\n",
       "      <td>0.02729</td>\n",
       "      <td>0.0</td>\n",
       "      <td>7.07</td>\n",
       "      <td>0.0</td>\n",
       "      <td>0.469</td>\n",
       "      <td>7.185</td>\n",
       "      <td>61.1</td>\n",
       "      <td>4.9671</td>\n",
       "      <td>2</td>\n",
       "      <td>242</td>\n",
       "      <td>17.8</td>\n",
       "      <td>392.83</td>\n",
       "      <td>4.030000</td>\n",
       "      <td>34.7</td>\n",
       "    </tr>\n",
       "    <tr>\n",
       "      <th>3</th>\n",
       "      <td>0.03237</td>\n",
       "      <td>0.0</td>\n",
       "      <td>2.18</td>\n",
       "      <td>0.0</td>\n",
       "      <td>0.458</td>\n",
       "      <td>6.998</td>\n",
       "      <td>45.8</td>\n",
       "      <td>6.0622</td>\n",
       "      <td>3</td>\n",
       "      <td>222</td>\n",
       "      <td>18.7</td>\n",
       "      <td>394.63</td>\n",
       "      <td>2.940000</td>\n",
       "      <td>33.4</td>\n",
       "    </tr>\n",
       "    <tr>\n",
       "      <th>4</th>\n",
       "      <td>0.06905</td>\n",
       "      <td>0.0</td>\n",
       "      <td>2.18</td>\n",
       "      <td>0.0</td>\n",
       "      <td>0.458</td>\n",
       "      <td>7.147</td>\n",
       "      <td>54.2</td>\n",
       "      <td>6.0622</td>\n",
       "      <td>3</td>\n",
       "      <td>222</td>\n",
       "      <td>18.7</td>\n",
       "      <td>396.90</td>\n",
       "      <td>12.715432</td>\n",
       "      <td>36.2</td>\n",
       "    </tr>\n",
       "  </tbody>\n",
       "</table>\n",
       "</div>"
      ],
      "text/plain": [
       "      CRIM    ZN  INDUS  CHAS    NOX     RM   AGE     DIS  RAD  TAX  PTRATIO  \\\n",
       "0  0.00632  18.0   2.31   0.0  0.538  6.575  65.2  4.0900    1  296     15.3   \n",
       "1  0.02731   0.0   7.07   0.0  0.469  6.421  78.9  4.9671    2  242     17.8   \n",
       "2  0.02729   0.0   7.07   0.0  0.469  7.185  61.1  4.9671    2  242     17.8   \n",
       "3  0.03237   0.0   2.18   0.0  0.458  6.998  45.8  6.0622    3  222     18.7   \n",
       "4  0.06905   0.0   2.18   0.0  0.458  7.147  54.2  6.0622    3  222     18.7   \n",
       "\n",
       "        B      LSTAT  MEDV  \n",
       "0  396.90   4.980000  24.0  \n",
       "1  396.90   9.140000  21.6  \n",
       "2  392.83   4.030000  34.7  \n",
       "3  394.63   2.940000  33.4  \n",
       "4  396.90  12.715432  36.2  "
      ]
     },
     "execution_count": 12,
     "metadata": {},
     "output_type": "execute_result"
    }
   ],
   "source": [
    "df.head()"
   ]
  },
  {
   "cell_type": "code",
   "execution_count": 13,
   "id": "4a45b423",
   "metadata": {},
   "outputs": [],
   "source": [
    "from sklearn.model_selection import train_test_split"
   ]
  },
  {
   "cell_type": "code",
   "execution_count": 14,
   "id": "e3ac2b64",
   "metadata": {},
   "outputs": [],
   "source": [
    "x=df.loc[:,df.columns!='MEDV']\n",
    "y=df.loc[:,df.columns=='MEDV']"
   ]
  },
  {
   "cell_type": "code",
   "execution_count": 15,
   "id": "4e9df239",
   "metadata": {},
   "outputs": [],
   "source": [
    "X_train,X_test,y_train,y_test = train_test_split(x,y,test_size=0.3,random_state=123)"
   ]
  },
  {
   "cell_type": "code",
   "execution_count": 16,
   "id": "8ca94a67",
   "metadata": {},
   "outputs": [],
   "source": [
    "from sklearn.preprocessing import MinMaxScaler"
   ]
  },
  {
   "cell_type": "code",
   "execution_count": 17,
   "id": "52193a52",
   "metadata": {},
   "outputs": [],
   "source": [
    "mms = MinMaxScaler()"
   ]
  },
  {
   "cell_type": "code",
   "execution_count": 18,
   "id": "e57905ea",
   "metadata": {},
   "outputs": [
    {
     "data": {
      "text/html": [
       "<style>#sk-container-id-1 {color: black;}#sk-container-id-1 pre{padding: 0;}#sk-container-id-1 div.sk-toggleable {background-color: white;}#sk-container-id-1 label.sk-toggleable__label {cursor: pointer;display: block;width: 100%;margin-bottom: 0;padding: 0.3em;box-sizing: border-box;text-align: center;}#sk-container-id-1 label.sk-toggleable__label-arrow:before {content: \"▸\";float: left;margin-right: 0.25em;color: #696969;}#sk-container-id-1 label.sk-toggleable__label-arrow:hover:before {color: black;}#sk-container-id-1 div.sk-estimator:hover label.sk-toggleable__label-arrow:before {color: black;}#sk-container-id-1 div.sk-toggleable__content {max-height: 0;max-width: 0;overflow: hidden;text-align: left;background-color: #f0f8ff;}#sk-container-id-1 div.sk-toggleable__content pre {margin: 0.2em;color: black;border-radius: 0.25em;background-color: #f0f8ff;}#sk-container-id-1 input.sk-toggleable__control:checked~div.sk-toggleable__content {max-height: 200px;max-width: 100%;overflow: auto;}#sk-container-id-1 input.sk-toggleable__control:checked~label.sk-toggleable__label-arrow:before {content: \"▾\";}#sk-container-id-1 div.sk-estimator input.sk-toggleable__control:checked~label.sk-toggleable__label {background-color: #d4ebff;}#sk-container-id-1 div.sk-label input.sk-toggleable__control:checked~label.sk-toggleable__label {background-color: #d4ebff;}#sk-container-id-1 input.sk-hidden--visually {border: 0;clip: rect(1px 1px 1px 1px);clip: rect(1px, 1px, 1px, 1px);height: 1px;margin: -1px;overflow: hidden;padding: 0;position: absolute;width: 1px;}#sk-container-id-1 div.sk-estimator {font-family: monospace;background-color: #f0f8ff;border: 1px dotted black;border-radius: 0.25em;box-sizing: border-box;margin-bottom: 0.5em;}#sk-container-id-1 div.sk-estimator:hover {background-color: #d4ebff;}#sk-container-id-1 div.sk-parallel-item::after {content: \"\";width: 100%;border-bottom: 1px solid gray;flex-grow: 1;}#sk-container-id-1 div.sk-label:hover label.sk-toggleable__label {background-color: #d4ebff;}#sk-container-id-1 div.sk-serial::before {content: \"\";position: absolute;border-left: 1px solid gray;box-sizing: border-box;top: 0;bottom: 0;left: 50%;z-index: 0;}#sk-container-id-1 div.sk-serial {display: flex;flex-direction: column;align-items: center;background-color: white;padding-right: 0.2em;padding-left: 0.2em;position: relative;}#sk-container-id-1 div.sk-item {position: relative;z-index: 1;}#sk-container-id-1 div.sk-parallel {display: flex;align-items: stretch;justify-content: center;background-color: white;position: relative;}#sk-container-id-1 div.sk-item::before, #sk-container-id-1 div.sk-parallel-item::before {content: \"\";position: absolute;border-left: 1px solid gray;box-sizing: border-box;top: 0;bottom: 0;left: 50%;z-index: -1;}#sk-container-id-1 div.sk-parallel-item {display: flex;flex-direction: column;z-index: 1;position: relative;background-color: white;}#sk-container-id-1 div.sk-parallel-item:first-child::after {align-self: flex-end;width: 50%;}#sk-container-id-1 div.sk-parallel-item:last-child::after {align-self: flex-start;width: 50%;}#sk-container-id-1 div.sk-parallel-item:only-child::after {width: 0;}#sk-container-id-1 div.sk-dashed-wrapped {border: 1px dashed gray;margin: 0 0.4em 0.5em 0.4em;box-sizing: border-box;padding-bottom: 0.4em;background-color: white;}#sk-container-id-1 div.sk-label label {font-family: monospace;font-weight: bold;display: inline-block;line-height: 1.2em;}#sk-container-id-1 div.sk-label-container {text-align: center;}#sk-container-id-1 div.sk-container {/* jupyter's `normalize.less` sets `[hidden] { display: none; }` but bootstrap.min.css set `[hidden] { display: none !important; }` so we also need the `!important` here to be able to override the default hidden behavior on the sphinx rendered scikit-learn.org. See: https://github.com/scikit-learn/scikit-learn/issues/21755 */display: inline-block !important;position: relative;}#sk-container-id-1 div.sk-text-repr-fallback {display: none;}</style><div id=\"sk-container-id-1\" class=\"sk-top-container\"><div class=\"sk-text-repr-fallback\"><pre>MinMaxScaler()</pre><b>In a Jupyter environment, please rerun this cell to show the HTML representation or trust the notebook. <br />On GitHub, the HTML representation is unable to render, please try loading this page with nbviewer.org.</b></div><div class=\"sk-container\" hidden><div class=\"sk-item\"><div class=\"sk-estimator sk-toggleable\"><input class=\"sk-toggleable__control sk-hidden--visually\" id=\"sk-estimator-id-1\" type=\"checkbox\" checked><label for=\"sk-estimator-id-1\" class=\"sk-toggleable__label sk-toggleable__label-arrow\">MinMaxScaler</label><div class=\"sk-toggleable__content\"><pre>MinMaxScaler()</pre></div></div></div></div></div>"
      ],
      "text/plain": [
       "MinMaxScaler()"
      ]
     },
     "execution_count": 18,
     "metadata": {},
     "output_type": "execute_result"
    }
   ],
   "source": [
    "mms.fit(X_train)"
   ]
  },
  {
   "cell_type": "code",
   "execution_count": 21,
   "id": "9081da53",
   "metadata": {},
   "outputs": [],
   "source": [
    "X_train = mms.transform(X_train)"
   ]
  },
  {
   "cell_type": "code",
   "execution_count": 22,
   "id": "9ddf7072",
   "metadata": {},
   "outputs": [],
   "source": [
    "X_test = mms.transform(X_test)"
   ]
  },
  {
   "cell_type": "code",
   "execution_count": 23,
   "id": "68d80414",
   "metadata": {},
   "outputs": [
    {
     "name": "stdout",
     "output_type": "stream",
     "text": [
      "WARNING:tensorflow:From D:\\Anaconda\\Lib\\site-packages\\keras\\src\\losses.py:2976: The name tf.losses.sparse_softmax_cross_entropy is deprecated. Please use tf.compat.v1.losses.sparse_softmax_cross_entropy instead.\n",
      "\n"
     ]
    }
   ],
   "source": [
    "from tensorflow.keras.models import Sequential"
   ]
  },
  {
   "cell_type": "code",
   "execution_count": 25,
   "id": "6a5b96bc",
   "metadata": {},
   "outputs": [],
   "source": [
    "from tensorflow.keras.layers import Dense"
   ]
  },
  {
   "cell_type": "code",
   "execution_count": 26,
   "id": "e33c23ea",
   "metadata": {},
   "outputs": [
    {
     "name": "stdout",
     "output_type": "stream",
     "text": [
      "WARNING:tensorflow:From D:\\Anaconda\\Lib\\site-packages\\keras\\src\\backend.py:873: The name tf.get_default_graph is deprecated. Please use tf.compat.v1.get_default_graph instead.\n",
      "\n"
     ]
    }
   ],
   "source": [
    "model = Sequential()"
   ]
  },
  {
   "cell_type": "code",
   "execution_count": 27,
   "id": "27d73558",
   "metadata": {},
   "outputs": [],
   "source": [
    "model.add(Dense(128,input_shape=(13,),activation='relu',name='dense_1'))"
   ]
  },
  {
   "cell_type": "code",
   "execution_count": 28,
   "id": "f2f32272",
   "metadata": {},
   "outputs": [],
   "source": [
    "model.add(Dense(64,activation='relu',name='dense_2'))"
   ]
  },
  {
   "cell_type": "code",
   "execution_count": 29,
   "id": "fdf1a98f",
   "metadata": {},
   "outputs": [],
   "source": [
    "model.add(Dense(1,activation='linear',name='dense_output'))"
   ]
  },
  {
   "cell_type": "code",
   "execution_count": 30,
   "id": "428ea945",
   "metadata": {},
   "outputs": [
    {
     "name": "stdout",
     "output_type": "stream",
     "text": [
      "WARNING:tensorflow:From D:\\Anaconda\\Lib\\site-packages\\keras\\src\\optimizers\\__init__.py:309: The name tf.train.Optimizer is deprecated. Please use tf.compat.v1.train.Optimizer instead.\n",
      "\n"
     ]
    }
   ],
   "source": [
    "model.compile(optimizer='adam',loss='mse',metrics=['mae'])"
   ]
  },
  {
   "cell_type": "code",
   "execution_count": 31,
   "id": "0d8ed31c",
   "metadata": {},
   "outputs": [
    {
     "name": "stdout",
     "output_type": "stream",
     "text": [
      "Model: \"sequential\"\n",
      "_________________________________________________________________\n",
      " Layer (type)                Output Shape              Param #   \n",
      "=================================================================\n",
      " dense_1 (Dense)             (None, 128)               1792      \n",
      "                                                                 \n",
      " dense_2 (Dense)             (None, 64)                8256      \n",
      "                                                                 \n",
      " dense_output (Dense)        (None, 1)                 65        \n",
      "                                                                 \n",
      "=================================================================\n",
      "Total params: 10113 (39.50 KB)\n",
      "Trainable params: 10113 (39.50 KB)\n",
      "Non-trainable params: 0 (0.00 Byte)\n",
      "_________________________________________________________________\n"
     ]
    }
   ],
   "source": [
    "model.summary()"
   ]
  },
  {
   "cell_type": "code",
   "execution_count": 32,
   "id": "b501fb00",
   "metadata": {},
   "outputs": [
    {
     "name": "stdout",
     "output_type": "stream",
     "text": [
      "Epoch 1/100\n",
      "WARNING:tensorflow:From D:\\Anaconda\\Lib\\site-packages\\keras\\src\\utils\\tf_utils.py:492: The name tf.ragged.RaggedTensorValue is deprecated. Please use tf.compat.v1.ragged.RaggedTensorValue instead.\n",
      "\n",
      "WARNING:tensorflow:From D:\\Anaconda\\Lib\\site-packages\\keras\\src\\engine\\base_layer_utils.py:384: The name tf.executing_eagerly_outside_functions is deprecated. Please use tf.compat.v1.executing_eagerly_outside_functions instead.\n",
      "\n",
      "11/11 [==============================] - 4s 60ms/step - loss: 567.2006 - mae: 21.9232 - val_loss: 571.5761 - val_mae: 21.8961\n",
      "Epoch 2/100\n",
      "11/11 [==============================] - 0s 14ms/step - loss: 504.0316 - mae: 20.3625 - val_loss: 493.4500 - val_mae: 19.9748\n",
      "Epoch 3/100\n",
      "11/11 [==============================] - 0s 12ms/step - loss: 414.1288 - mae: 17.9286 - val_loss: 380.6114 - val_mae: 16.7869\n",
      "Epoch 4/100\n",
      "11/11 [==============================] - 0s 11ms/step - loss: 293.7127 - mae: 14.1354 - val_loss: 243.5102 - val_mae: 12.2425\n",
      "Epoch 5/100\n",
      "11/11 [==============================] - 0s 11ms/step - loss: 180.1292 - mae: 10.3524 - val_loss: 146.4237 - val_mae: 8.2369\n",
      "Epoch 6/100\n",
      "11/11 [==============================] - 0s 11ms/step - loss: 138.0339 - mae: 9.0151 - val_loss: 122.4398 - val_mae: 7.9211\n",
      "Epoch 7/100\n",
      "11/11 [==============================] - 0s 13ms/step - loss: 121.3047 - mae: 8.4591 - val_loss: 112.7120 - val_mae: 7.5420\n",
      "Epoch 8/100\n",
      "11/11 [==============================] - 0s 13ms/step - loss: 104.6553 - mae: 7.7100 - val_loss: 105.2673 - val_mae: 7.1623\n",
      "Epoch 9/100\n",
      "11/11 [==============================] - 0s 11ms/step - loss: 92.3975 - mae: 7.0751 - val_loss: 96.5135 - val_mae: 6.7689\n",
      "Epoch 10/100\n",
      "11/11 [==============================] - 0s 10ms/step - loss: 81.8057 - mae: 6.5098 - val_loss: 89.1512 - val_mae: 6.4413\n",
      "Epoch 11/100\n",
      "11/11 [==============================] - 0s 11ms/step - loss: 72.1627 - mae: 6.1262 - val_loss: 81.7782 - val_mae: 6.3115\n",
      "Epoch 12/100\n",
      "11/11 [==============================] - 0s 12ms/step - loss: 64.9395 - mae: 5.7812 - val_loss: 77.2234 - val_mae: 6.1259\n",
      "Epoch 13/100\n",
      "11/11 [==============================] - 0s 12ms/step - loss: 59.4326 - mae: 5.4732 - val_loss: 73.5058 - val_mae: 6.1323\n",
      "Epoch 14/100\n",
      "11/11 [==============================] - 0s 16ms/step - loss: 55.2573 - mae: 5.1958 - val_loss: 71.6571 - val_mae: 5.9269\n",
      "Epoch 15/100\n",
      "11/11 [==============================] - 0s 14ms/step - loss: 52.2218 - mae: 4.9901 - val_loss: 69.0997 - val_mae: 5.9389\n",
      "Epoch 16/100\n",
      "11/11 [==============================] - 0s 15ms/step - loss: 49.9491 - mae: 4.9470 - val_loss: 66.3722 - val_mae: 6.0459\n",
      "Epoch 17/100\n",
      "11/11 [==============================] - 0s 14ms/step - loss: 47.7983 - mae: 4.8004 - val_loss: 65.9570 - val_mae: 5.7225\n",
      "Epoch 18/100\n",
      "11/11 [==============================] - 0s 11ms/step - loss: 46.1285 - mae: 4.6307 - val_loss: 64.2669 - val_mae: 5.6580\n",
      "Epoch 19/100\n",
      "11/11 [==============================] - 0s 14ms/step - loss: 44.4118 - mae: 4.6414 - val_loss: 61.4008 - val_mae: 5.7873\n",
      "Epoch 20/100\n",
      "11/11 [==============================] - 0s 14ms/step - loss: 42.5266 - mae: 4.5263 - val_loss: 60.8448 - val_mae: 5.5173\n",
      "Epoch 21/100\n",
      "11/11 [==============================] - 0s 13ms/step - loss: 40.8217 - mae: 4.3498 - val_loss: 59.2188 - val_mae: 5.4617\n",
      "Epoch 22/100\n",
      "11/11 [==============================] - 0s 12ms/step - loss: 39.0632 - mae: 4.2966 - val_loss: 56.6970 - val_mae: 5.4765\n",
      "Epoch 23/100\n",
      "11/11 [==============================] - 0s 13ms/step - loss: 37.3275 - mae: 4.2084 - val_loss: 55.6899 - val_mae: 5.3305\n",
      "Epoch 24/100\n",
      "11/11 [==============================] - 0s 14ms/step - loss: 35.5755 - mae: 4.1125 - val_loss: 53.9379 - val_mae: 5.2754\n",
      "Epoch 25/100\n",
      "11/11 [==============================] - 0s 13ms/step - loss: 33.9781 - mae: 4.0416 - val_loss: 52.0422 - val_mae: 5.2332\n",
      "Epoch 26/100\n",
      "11/11 [==============================] - 0s 10ms/step - loss: 32.3317 - mae: 3.8895 - val_loss: 51.0828 - val_mae: 5.1381\n",
      "Epoch 27/100\n",
      "11/11 [==============================] - 0s 11ms/step - loss: 30.8667 - mae: 3.8056 - val_loss: 48.8389 - val_mae: 5.1127\n",
      "Epoch 28/100\n",
      "11/11 [==============================] - 0s 12ms/step - loss: 29.4790 - mae: 3.6784 - val_loss: 47.7772 - val_mae: 5.0347\n",
      "Epoch 29/100\n",
      "11/11 [==============================] - 0s 11ms/step - loss: 28.3073 - mae: 3.6872 - val_loss: 45.7361 - val_mae: 5.0109\n",
      "Epoch 30/100\n",
      "11/11 [==============================] - 0s 11ms/step - loss: 26.9047 - mae: 3.5126 - val_loss: 45.7599 - val_mae: 4.9516\n",
      "Epoch 31/100\n",
      "11/11 [==============================] - 0s 12ms/step - loss: 25.8155 - mae: 3.4170 - val_loss: 44.0863 - val_mae: 4.9158\n",
      "Epoch 32/100\n",
      "11/11 [==============================] - 0s 11ms/step - loss: 24.8721 - mae: 3.4019 - val_loss: 42.5239 - val_mae: 4.8788\n",
      "Epoch 33/100\n",
      "11/11 [==============================] - 0s 11ms/step - loss: 23.9326 - mae: 3.2617 - val_loss: 42.9625 - val_mae: 4.8228\n",
      "Epoch 34/100\n",
      "11/11 [==============================] - 0s 12ms/step - loss: 22.9337 - mae: 3.2302 - val_loss: 40.3618 - val_mae: 4.7968\n",
      "Epoch 35/100\n",
      "11/11 [==============================] - 0s 11ms/step - loss: 22.9287 - mae: 3.2099 - val_loss: 40.3052 - val_mae: 4.7254\n",
      "Epoch 36/100\n",
      "11/11 [==============================] - 0s 12ms/step - loss: 21.7856 - mae: 3.2280 - val_loss: 38.2552 - val_mae: 4.6860\n",
      "Epoch 37/100\n",
      "11/11 [==============================] - 0s 12ms/step - loss: 20.8536 - mae: 3.0651 - val_loss: 40.3787 - val_mae: 4.5854\n",
      "Epoch 38/100\n",
      "11/11 [==============================] - 0s 13ms/step - loss: 20.6233 - mae: 3.0040 - val_loss: 37.8427 - val_mae: 4.5512\n",
      "Epoch 39/100\n",
      "11/11 [==============================] - 0s 11ms/step - loss: 20.0911 - mae: 3.0469 - val_loss: 36.9534 - val_mae: 4.5044\n",
      "Epoch 40/100\n",
      "11/11 [==============================] - 0s 10ms/step - loss: 19.8033 - mae: 2.9765 - val_loss: 36.8160 - val_mae: 4.4346\n",
      "Epoch 41/100\n",
      "11/11 [==============================] - 0s 12ms/step - loss: 19.2817 - mae: 2.9685 - val_loss: 36.2015 - val_mae: 4.3832\n",
      "Epoch 42/100\n",
      "11/11 [==============================] - 0s 12ms/step - loss: 18.9125 - mae: 2.9236 - val_loss: 36.3898 - val_mae: 4.3242\n",
      "Epoch 43/100\n",
      "11/11 [==============================] - 0s 11ms/step - loss: 18.7724 - mae: 2.8950 - val_loss: 35.1656 - val_mae: 4.2747\n",
      "Epoch 44/100\n",
      "11/11 [==============================] - 0s 12ms/step - loss: 18.5111 - mae: 2.8870 - val_loss: 33.8911 - val_mae: 4.2358\n",
      "Epoch 45/100\n",
      "11/11 [==============================] - 0s 12ms/step - loss: 18.2267 - mae: 2.9217 - val_loss: 34.7145 - val_mae: 4.2024\n",
      "Epoch 46/100\n",
      "11/11 [==============================] - 0s 12ms/step - loss: 18.2448 - mae: 2.8602 - val_loss: 33.7171 - val_mae: 4.1450\n",
      "Epoch 47/100\n",
      "11/11 [==============================] - 0s 13ms/step - loss: 17.8057 - mae: 2.8413 - val_loss: 32.8188 - val_mae: 4.0853\n",
      "Epoch 48/100\n",
      "11/11 [==============================] - 0s 12ms/step - loss: 17.6975 - mae: 2.8473 - val_loss: 32.5766 - val_mae: 4.0409\n",
      "Epoch 49/100\n",
      "11/11 [==============================] - 0s 11ms/step - loss: 17.4750 - mae: 2.8203 - val_loss: 33.4027 - val_mae: 4.0215\n",
      "Epoch 50/100\n",
      "11/11 [==============================] - 0s 12ms/step - loss: 17.5291 - mae: 2.8489 - val_loss: 31.9637 - val_mae: 3.9774\n",
      "Epoch 51/100\n",
      "11/11 [==============================] - 0s 11ms/step - loss: 17.4597 - mae: 2.8349 - val_loss: 32.5267 - val_mae: 3.9459\n",
      "Epoch 52/100\n",
      "11/11 [==============================] - 0s 13ms/step - loss: 17.1747 - mae: 2.8397 - val_loss: 30.9521 - val_mae: 3.8945\n",
      "Epoch 53/100\n",
      "11/11 [==============================] - 0s 11ms/step - loss: 17.1896 - mae: 2.7901 - val_loss: 31.8832 - val_mae: 3.8675\n",
      "Epoch 54/100\n",
      "11/11 [==============================] - 0s 10ms/step - loss: 16.9919 - mae: 2.8584 - val_loss: 29.9202 - val_mae: 3.8049\n",
      "Epoch 55/100\n",
      "11/11 [==============================] - 0s 11ms/step - loss: 17.0284 - mae: 2.7517 - val_loss: 31.7141 - val_mae: 3.8106\n",
      "Epoch 56/100\n",
      "11/11 [==============================] - 0s 12ms/step - loss: 16.5512 - mae: 2.7737 - val_loss: 29.2226 - val_mae: 3.7410\n",
      "Epoch 57/100\n",
      "11/11 [==============================] - 0s 11ms/step - loss: 16.4296 - mae: 2.7844 - val_loss: 31.5800 - val_mae: 3.7640\n",
      "Epoch 58/100\n"
     ]
    },
    {
     "name": "stdout",
     "output_type": "stream",
     "text": [
      "11/11 [==============================] - 0s 11ms/step - loss: 16.4604 - mae: 2.7200 - val_loss: 28.0952 - val_mae: 3.6683\n",
      "Epoch 59/100\n",
      "11/11 [==============================] - 0s 12ms/step - loss: 16.3861 - mae: 2.7780 - val_loss: 31.0309 - val_mae: 3.6972\n",
      "Epoch 60/100\n",
      "11/11 [==============================] - 0s 12ms/step - loss: 16.1964 - mae: 2.6949 - val_loss: 29.1154 - val_mae: 3.6180\n",
      "Epoch 61/100\n",
      "11/11 [==============================] - 0s 11ms/step - loss: 16.0996 - mae: 2.7615 - val_loss: 29.3743 - val_mae: 3.6135\n",
      "Epoch 62/100\n",
      "11/11 [==============================] - 0s 12ms/step - loss: 16.0203 - mae: 2.6718 - val_loss: 28.7918 - val_mae: 3.5724\n",
      "Epoch 63/100\n",
      "11/11 [==============================] - 0s 11ms/step - loss: 16.0321 - mae: 2.7664 - val_loss: 28.7182 - val_mae: 3.5504\n",
      "Epoch 64/100\n",
      "11/11 [==============================] - 0s 11ms/step - loss: 15.9478 - mae: 2.6684 - val_loss: 28.6786 - val_mae: 3.5211\n",
      "Epoch 65/100\n",
      "11/11 [==============================] - 0s 12ms/step - loss: 15.7132 - mae: 2.7158 - val_loss: 28.0222 - val_mae: 3.4828\n",
      "Epoch 66/100\n",
      "11/11 [==============================] - 0s 11ms/step - loss: 15.6218 - mae: 2.6454 - val_loss: 27.6286 - val_mae: 3.4564\n",
      "Epoch 67/100\n",
      "11/11 [==============================] - 0s 12ms/step - loss: 15.5907 - mae: 2.7096 - val_loss: 27.5064 - val_mae: 3.4247\n",
      "Epoch 68/100\n",
      "11/11 [==============================] - 0s 11ms/step - loss: 15.5803 - mae: 2.6421 - val_loss: 26.6602 - val_mae: 3.3773\n",
      "Epoch 69/100\n",
      "11/11 [==============================] - 0s 13ms/step - loss: 15.3416 - mae: 2.6991 - val_loss: 26.8579 - val_mae: 3.3633\n",
      "Epoch 70/100\n",
      "11/11 [==============================] - 0s 24ms/step - loss: 15.2663 - mae: 2.6280 - val_loss: 27.4267 - val_mae: 3.3783\n",
      "Epoch 71/100\n",
      "11/11 [==============================] - 0s 15ms/step - loss: 15.2208 - mae: 2.6671 - val_loss: 25.9731 - val_mae: 3.2962\n",
      "Epoch 72/100\n",
      "11/11 [==============================] - 0s 13ms/step - loss: 14.9524 - mae: 2.6203 - val_loss: 27.4213 - val_mae: 3.3232\n",
      "Epoch 73/100\n",
      "11/11 [==============================] - 0s 15ms/step - loss: 15.0375 - mae: 2.5953 - val_loss: 25.6241 - val_mae: 3.2374\n",
      "Epoch 74/100\n",
      "11/11 [==============================] - 0s 16ms/step - loss: 15.1298 - mae: 2.7042 - val_loss: 25.9544 - val_mae: 3.2417\n",
      "Epoch 75/100\n",
      "11/11 [==============================] - 0s 15ms/step - loss: 15.2863 - mae: 2.6039 - val_loss: 25.2178 - val_mae: 3.2009\n",
      "Epoch 76/100\n",
      "11/11 [==============================] - 0s 13ms/step - loss: 14.8681 - mae: 2.5910 - val_loss: 25.0918 - val_mae: 3.1774\n",
      "Epoch 77/100\n",
      "11/11 [==============================] - 0s 14ms/step - loss: 14.6746 - mae: 2.6222 - val_loss: 25.4122 - val_mae: 3.1803\n",
      "Epoch 78/100\n",
      "11/11 [==============================] - 0s 10ms/step - loss: 14.6038 - mae: 2.5816 - val_loss: 24.9261 - val_mae: 3.1492\n",
      "Epoch 79/100\n",
      "11/11 [==============================] - 0s 11ms/step - loss: 14.6432 - mae: 2.5922 - val_loss: 25.1172 - val_mae: 3.1216\n",
      "Epoch 80/100\n",
      "11/11 [==============================] - 0s 11ms/step - loss: 14.5148 - mae: 2.5807 - val_loss: 24.1627 - val_mae: 3.0820\n",
      "Epoch 81/100\n",
      "11/11 [==============================] - 0s 11ms/step - loss: 14.3948 - mae: 2.5825 - val_loss: 24.4451 - val_mae: 3.0811\n",
      "Epoch 82/100\n",
      "11/11 [==============================] - 0s 12ms/step - loss: 14.4569 - mae: 2.5524 - val_loss: 23.2938 - val_mae: 3.0058\n",
      "Epoch 83/100\n",
      "11/11 [==============================] - 0s 13ms/step - loss: 14.3350 - mae: 2.5931 - val_loss: 23.9580 - val_mae: 3.0222\n",
      "Epoch 84/100\n",
      "11/11 [==============================] - 0s 13ms/step - loss: 14.1771 - mae: 2.5326 - val_loss: 23.7153 - val_mae: 2.9934\n",
      "Epoch 85/100\n",
      "11/11 [==============================] - 0s 15ms/step - loss: 14.2163 - mae: 2.5553 - val_loss: 23.5561 - val_mae: 2.9748\n",
      "Epoch 86/100\n",
      "11/11 [==============================] - 0s 16ms/step - loss: 14.2520 - mae: 2.5436 - val_loss: 22.8478 - val_mae: 2.9304\n",
      "Epoch 87/100\n",
      "11/11 [==============================] - 0s 16ms/step - loss: 14.1293 - mae: 2.5269 - val_loss: 23.2802 - val_mae: 2.9379\n",
      "Epoch 88/100\n",
      "11/11 [==============================] - 0s 15ms/step - loss: 14.1361 - mae: 2.5806 - val_loss: 22.7570 - val_mae: 2.9056\n",
      "Epoch 89/100\n",
      "11/11 [==============================] - 0s 13ms/step - loss: 14.0169 - mae: 2.5161 - val_loss: 22.4059 - val_mae: 2.8863\n",
      "Epoch 90/100\n",
      "11/11 [==============================] - 0s 14ms/step - loss: 13.7796 - mae: 2.4996 - val_loss: 22.6730 - val_mae: 2.8882\n",
      "Epoch 91/100\n",
      "11/11 [==============================] - 0s 12ms/step - loss: 13.9304 - mae: 2.5708 - val_loss: 23.4719 - val_mae: 2.9154\n",
      "Epoch 92/100\n",
      "11/11 [==============================] - 0s 11ms/step - loss: 13.7319 - mae: 2.4643 - val_loss: 21.8774 - val_mae: 2.8355\n",
      "Epoch 93/100\n",
      "11/11 [==============================] - 0s 11ms/step - loss: 13.6441 - mae: 2.5179 - val_loss: 21.7783 - val_mae: 2.7993\n",
      "Epoch 94/100\n",
      "11/11 [==============================] - 0s 13ms/step - loss: 13.6285 - mae: 2.4615 - val_loss: 21.4383 - val_mae: 2.7935\n",
      "Epoch 95/100\n",
      "11/11 [==============================] - 0s 11ms/step - loss: 13.5757 - mae: 2.5336 - val_loss: 21.4552 - val_mae: 2.7650\n",
      "Epoch 96/100\n",
      "11/11 [==============================] - 0s 13ms/step - loss: 13.6186 - mae: 2.4518 - val_loss: 21.4837 - val_mae: 2.7693\n",
      "Epoch 97/100\n",
      "11/11 [==============================] - 0s 11ms/step - loss: 13.6059 - mae: 2.5328 - val_loss: 21.5805 - val_mae: 2.7673\n",
      "Epoch 98/100\n",
      "11/11 [==============================] - 0s 12ms/step - loss: 13.7739 - mae: 2.4720 - val_loss: 20.6619 - val_mae: 2.7346\n",
      "Epoch 99/100\n",
      "11/11 [==============================] - 0s 11ms/step - loss: 13.5205 - mae: 2.5249 - val_loss: 22.3038 - val_mae: 2.8268\n",
      "Epoch 100/100\n",
      "11/11 [==============================] - 0s 10ms/step - loss: 13.2845 - mae: 2.4250 - val_loss: 19.8250 - val_mae: 2.6859\n"
     ]
    }
   ],
   "source": [
    "history = model.fit(X_train,y_train,epochs=100,validation_split=0.05,verbose=1)"
   ]
  },
  {
   "cell_type": "code",
   "execution_count": 33,
   "id": "a1294079",
   "metadata": {},
   "outputs": [],
   "source": [
    "loss = model.evaluate(X_test,y_test,verbose=0)"
   ]
  },
  {
   "cell_type": "code",
   "execution_count": 34,
   "id": "a9eb22f8",
   "metadata": {},
   "outputs": [
    {
     "name": "stdout",
     "output_type": "stream",
     "text": [
      "Test Loss:[24.034034729003906, 3.234182119369507]\n"
     ]
    }
   ],
   "source": [
    "print(f'Test Loss:{loss}')"
   ]
  },
  {
   "cell_type": "code",
   "execution_count": 35,
   "id": "1af3f7d9",
   "metadata": {},
   "outputs": [
    {
     "name": "stdout",
     "output_type": "stream",
     "text": [
      "5/5 [==============================] - 0s 5ms/step\n"
     ]
    }
   ],
   "source": [
    "predictions=model.predict(X_test)"
   ]
  },
  {
   "cell_type": "code",
   "execution_count": 36,
   "id": "b95571ee",
   "metadata": {},
   "outputs": [
    {
     "name": "stdout",
     "output_type": "stream",
     "text": [
      "[[10.900094]\n",
      " [27.589111]\n",
      " [42.986614]\n",
      " [15.541805]\n",
      " [29.858738]\n",
      " [45.324207]\n",
      " [25.674906]\n",
      " [11.51007 ]\n",
      " [16.776117]\n",
      " [31.230087]\n",
      " [25.882011]\n",
      " [19.800692]\n",
      " [14.978736]\n",
      " [29.844246]\n",
      " [16.729877]\n",
      " [20.241156]\n",
      " [19.70958 ]\n",
      " [41.39828 ]\n",
      " [17.78564 ]\n",
      " [14.630541]\n",
      " [13.97024 ]\n",
      " [23.461163]\n",
      " [34.94089 ]\n",
      " [42.942596]\n",
      " [33.679615]\n",
      " [23.816717]\n",
      " [16.435629]\n",
      " [20.965809]\n",
      " [22.085037]\n",
      " [17.09948 ]\n",
      " [25.723028]\n",
      " [34.945553]\n",
      " [11.626744]\n",
      " [20.286465]\n",
      " [23.40281 ]\n",
      " [36.374928]\n",
      " [28.956604]\n",
      " [17.397997]\n",
      " [15.702864]\n",
      " [34.877926]\n",
      " [31.58657 ]\n",
      " [18.634108]\n",
      " [17.344173]\n",
      " [45.22755 ]\n",
      " [13.894161]\n",
      " [25.581772]\n",
      " [19.662113]\n",
      " [24.17745 ]\n",
      " [17.488579]\n",
      " [26.789831]\n",
      " [36.38393 ]\n",
      " [22.401102]\n",
      " [20.155233]\n",
      " [18.509459]\n",
      " [21.91993 ]\n",
      " [16.831108]\n",
      " [12.458937]\n",
      " [ 8.323363]\n",
      " [32.02575 ]\n",
      " [13.645282]\n",
      " [20.193241]\n",
      " [21.6049  ]\n",
      " [16.886663]\n",
      " [17.535347]\n",
      " [23.29504 ]\n",
      " [24.354565]\n",
      " [25.240635]\n",
      " [19.064714]\n",
      " [25.869413]\n",
      " [29.577545]\n",
      " [19.677206]\n",
      " [27.064426]\n",
      " [16.983868]\n",
      " [26.419636]\n",
      " [18.650242]\n",
      " [16.869125]\n",
      " [23.265182]\n",
      " [17.388504]\n",
      " [29.279974]\n",
      " [ 8.676812]\n",
      " [33.85957 ]\n",
      " [17.20732 ]\n",
      " [25.068987]\n",
      " [20.249226]\n",
      " [16.723543]\n",
      " [24.310879]\n",
      " [17.815302]\n",
      " [21.91341 ]\n",
      " [20.38196 ]\n",
      " [31.96813 ]\n",
      " [13.978365]\n",
      " [35.80234 ]\n",
      " [20.893553]\n",
      " [26.619476]\n",
      " [30.710844]\n",
      " [31.692247]\n",
      " [17.176888]\n",
      " [34.000916]\n",
      " [30.428623]\n",
      " [36.730206]\n",
      " [19.179735]\n",
      " [15.605292]\n",
      " [45.480824]\n",
      " [21.93531 ]\n",
      " [19.210073]\n",
      " [27.536327]\n",
      " [17.565548]\n",
      " [16.313152]\n",
      " [17.525955]\n",
      " [23.199198]\n",
      " [23.104118]\n",
      " [21.65198 ]\n",
      " [15.434751]\n",
      " [20.785416]\n",
      " [16.464954]\n",
      " [26.41373 ]\n",
      " [30.506937]\n",
      " [12.717321]\n",
      " [23.93824 ]\n",
      " [18.97005 ]\n",
      " [19.405888]\n",
      " [39.295284]\n",
      " [20.477911]\n",
      " [11.308938]\n",
      " [15.00131 ]\n",
      " [20.886059]\n",
      " [22.55037 ]\n",
      " [22.19196 ]\n",
      " [15.109904]\n",
      " [19.06652 ]\n",
      " [20.863876]\n",
      " [14.809921]\n",
      " [ 9.589081]\n",
      " [10.387734]\n",
      " [11.389773]\n",
      " [16.138565]\n",
      " [18.806946]\n",
      " [16.087904]\n",
      " [18.454945]\n",
      " [19.623665]\n",
      " [23.139427]\n",
      " [19.544802]\n",
      " [13.675248]\n",
      " [19.802685]\n",
      " [36.470634]\n",
      " [15.052677]\n",
      " [21.042175]\n",
      " [14.885844]\n",
      " [25.636349]\n",
      " [18.528654]\n",
      " [14.235351]\n",
      " [21.89249 ]]\n"
     ]
    }
   ],
   "source": [
    "print(predictions)"
   ]
  },
  {
   "cell_type": "code",
   "execution_count": 37,
   "id": "26c0e82c",
   "metadata": {},
   "outputs": [
    {
     "name": "stdout",
     "output_type": "stream",
     "text": [
      "5/5 [==============================] - 0s 8ms/step - loss: 24.0340 - mae: 3.2342\n"
     ]
    }
   ],
   "source": [
    "mse_nn,mae_nn=model.evaluate(X_test,y_test)"
   ]
  },
  {
   "cell_type": "code",
   "execution_count": 38,
   "id": "a82057c2",
   "metadata": {},
   "outputs": [
    {
     "name": "stdout",
     "output_type": "stream",
     "text": [
      "MSE on test data :  24.034034729003906\n"
     ]
    }
   ],
   "source": [
    "print('MSE on test data : ', mse_nn)"
   ]
  },
  {
   "cell_type": "code",
   "execution_count": 39,
   "id": "6190c23e",
   "metadata": {},
   "outputs": [
    {
     "name": "stdout",
     "output_type": "stream",
     "text": [
      "MAE on test data :  3.234182119369507\n"
     ]
    }
   ],
   "source": [
    "print('MAE on test data : ',mae_nn)"
   ]
  },
  {
   "cell_type": "code",
   "execution_count": 40,
   "id": "bac1eee6",
   "metadata": {},
   "outputs": [
    {
     "data": {
      "image/png": "[encoded data removed]",
      "text/plain": [
       "<Figure size 640x480 with 1 Axes>"
      ]
     },
     "metadata": {},
     "output_type": "display_data"
    }
   ],
   "source": [
    "import matplotlib.pyplot as plt\n",
    "plt.plot(history.history['loss'], label='Training Loss')\n",
    "plt.plot(history.history['val_loss'], label='Validation Loss')\n",
    "plt.xlabel('Epoch')\n",
    "plt.ylabel('Loss')\n",
    "plt.legend()\n",
    "plt.show()"
   ]
  },
  {
   "cell_type": "code",
   "execution_count": 44,
   "id": "9f686d63",
   "metadata": {
    "scrolled": true
   },
   "outputs": [
    {
     "name": "stdout",
     "output_type": "stream",
     "text": [
      "5/5 [==============================] - 0s 5ms/step\n"
     ]
    }
   ],
   "source": [
    "predictions=model.predict(X_test)"
   ]
  },
  {
   "cell_type": "code",
   "execution_count": 45,
   "id": "992dee9d",
   "metadata": {},
   "outputs": [
    {
     "name": "stdout",
     "output_type": "stream",
     "text": [
      "Actual: MEDV    15.0\n",
      "Name: 410, dtype: float64, Predicted: [10.900094]\n",
      "Actual: MEDV    26.6\n",
      "Name: 85, dtype: float64, Predicted: [27.589111]\n",
      "Actual: MEDV    45.4\n",
      "Name: 280, dtype: float64, Predicted: [42.986614]\n",
      "Actual: MEDV    20.8\n",
      "Name: 422, dtype: float64, Predicted: [15.541805]\n",
      "Actual: MEDV    34.9\n",
      "Name: 199, dtype: float64, Predicted: [29.858738]\n",
      "Actual: MEDV    21.9\n",
      "Name: 364, dtype: float64, Predicted: [45.324207]\n",
      "Actual: MEDV    28.7\n",
      "Name: 5, dtype: float64, Predicted: [25.674906]\n",
      "Actual: MEDV    7.2\n",
      "Name: 415, dtype: float64, Predicted: [11.51007]\n",
      "Actual: MEDV    20.0\n",
      "Name: 209, dtype: float64, Predicted: [16.776117]\n",
      "Actual: MEDV    32.2\n",
      "Name: 284, dtype: float64, Predicted: [31.230087]\n"
     ]
    }
   ],
   "source": [
    "for i in range(10):\n",
    "    print(f'Actual: {y_test.iloc[i]}, Predicted: {predictions[i]}')"
   ]
  },
  {
   "cell_type": "code",
   "execution_count": null,
   "id": "3453c6d6",
   "metadata": {},
   "outputs": [],
   "source": []
  }
 ],
 "metadata": {
  "kernelspec": {
   "display_name": "Python 3 (ipykernel)",
   "language": "python",
   "name": "python3"
  },
  "language_info": {
   "codemirror_mode": {
    "name": "ipython",
    "version": 3
   },
   "file_extension": ".py",
   "mimetype": "text/x-python",
   "name": "python",
   "nbconvert_exporter": "python",
   "pygments_lexer": "ipython3",
   "version": "3.11.5"
  }
 },
 "nbformat": 4,
 "nbformat_minor": 5
}
